{
  "nbformat": 4,
  "nbformat_minor": 0,
  "metadata": {
    "colab": {
      "name": "reuters_newswires.ipynb",
      "version": "0.3.2",
      "provenance": [],
      "collapsed_sections": []
    },
    "kernelspec": {
      "name": "python3",
      "display_name": "Python 3"
    },
    "accelerator": "GPU"
  },
  "cells": [
    {
      "metadata": {
        "id": "uNujU-2mOX8E",
        "colab_type": "code",
        "colab": {
          "base_uri": "https://localhost:8080/",
          "height": 53
        },
        "outputId": "32238bf1-94c7-4e95-9c7d-537f813a547b"
      },
      "cell_type": "code",
      "source": [
        "from keras.datasets import reuters\n",
        "\n",
        "(train_data, train_label), (test_data, test_label) = reuters.load_data(num_words = 10000)"
      ],
      "execution_count": 3,
      "outputs": [
        {
          "output_type": "stream",
          "text": [
            "Downloading data from https://s3.amazonaws.com/text-datasets/reuters.npz\n",
            "2113536/2110848 [==============================] - 1s 1us/step\n"
          ],
          "name": "stdout"
        }
      ]
    },
    {
      "metadata": {
        "id": "845Y2DQwPLnn",
        "colab_type": "code",
        "colab": {
          "base_uri": "https://localhost:8080/",
          "height": 181
        },
        "outputId": "0a21b976-2322-4065-eb74-16c0fe73c80b"
      },
      "cell_type": "code",
      "source": [
        "train_data"
      ],
      "execution_count": 4,
      "outputs": [
        {
          "output_type": "execute_result",
          "data": {
            "text/plain": [
              "array([list([1, 2, 2, 8, 43, 10, 447, 5, 25, 207, 270, 5, 3095, 111, 16, 369, 186, 90, 67, 7, 89, 5, 19, 102, 6, 19, 124, 15, 90, 67, 84, 22, 482, 26, 7, 48, 4, 49, 8, 864, 39, 209, 154, 6, 151, 6, 83, 11, 15, 22, 155, 11, 15, 7, 48, 9, 4579, 1005, 504, 6, 258, 6, 272, 11, 15, 22, 134, 44, 11, 15, 16, 8, 197, 1245, 90, 67, 52, 29, 209, 30, 32, 132, 6, 109, 15, 17, 12]),\n",
              "       list([1, 3267, 699, 3434, 2295, 56, 2, 7511, 9, 56, 3906, 1073, 81, 5, 1198, 57, 366, 737, 132, 20, 4093, 7, 2, 49, 2295, 2, 1037, 3267, 699, 3434, 8, 7, 10, 241, 16, 855, 129, 231, 783, 5, 4, 587, 2295, 2, 2, 775, 7, 48, 34, 191, 44, 35, 1795, 505, 17, 12]),\n",
              "       list([1, 53, 12, 284, 15, 14, 272, 26, 53, 959, 32, 818, 15, 14, 272, 26, 39, 684, 70, 11, 14, 12, 3886, 18, 180, 183, 187, 70, 11, 14, 102, 32, 11, 29, 53, 44, 704, 15, 14, 19, 758, 15, 53, 959, 47, 1013, 15, 14, 19, 132, 15, 39, 965, 32, 11, 14, 147, 72, 11, 180, 183, 187, 44, 11, 14, 102, 19, 11, 123, 186, 90, 67, 960, 4, 78, 13, 68, 467, 511, 110, 59, 89, 90, 67, 1390, 55, 2678, 92, 617, 80, 1274, 46, 905, 220, 13, 4, 346, 48, 235, 629, 5, 211, 5, 1118, 7, 2, 81, 5, 187, 11, 15, 9, 1709, 201, 5, 47, 3615, 18, 478, 4514, 5, 1118, 7, 232, 2, 71, 5, 160, 63, 11, 9, 2, 81, 5, 102, 59, 11, 17, 12]),\n",
              "       ...,\n",
              "       list([1, 141, 3890, 387, 81, 8, 16, 1629, 10, 340, 1241, 850, 31, 56, 3890, 691, 9, 1241, 71, 9, 5985, 2, 2, 699, 2, 2, 2, 699, 244, 5945, 4, 49, 8, 4, 656, 850, 33, 2993, 9, 2139, 340, 3371, 1493, 9, 2, 22, 2, 1094, 687, 83, 35, 15, 257, 6, 57, 9190, 7, 4, 5956, 654, 5, 2, 6191, 1371, 4, 49, 8, 16, 369, 646, 6, 1076, 7, 124, 407, 17, 12]),\n",
              "       list([1, 53, 46, 957, 26, 14, 74, 132, 26, 39, 46, 258, 3614, 18, 14, 74, 134, 5131, 18, 88, 2321, 72, 11, 14, 1842, 32, 11, 123, 383, 89, 39, 46, 235, 10, 864, 728, 5, 258, 44, 11, 15, 22, 753, 9, 42, 92, 131, 728, 5, 69, 312, 11, 15, 22, 222, 2, 3237, 383, 48, 39, 74, 235, 10, 864, 276, 5, 61, 32, 11, 15, 21, 4, 211, 5, 126, 1072, 42, 92, 131, 46, 19, 352, 11, 15, 22, 710, 220, 9, 42, 92, 131, 276, 5, 59, 61, 11, 15, 22, 10, 455, 7, 1172, 137, 336, 1325, 6, 1532, 142, 971, 6463, 43, 359, 5, 4, 326, 753, 364, 17, 12]),\n",
              "       list([1, 227, 2406, 91, 2, 125, 2855, 21, 4, 3976, 76, 7, 4, 757, 481, 3976, 790, 5259, 5654, 9, 111, 149, 8, 7, 10, 76, 223, 51, 4, 417, 8, 1047, 91, 6917, 1688, 340, 7, 194, 9411, 6, 1894, 21, 127, 2151, 2394, 1456, 6, 3034, 4, 329, 433, 7, 65, 87, 1127, 10, 8219, 1475, 290, 9, 21, 567, 16, 1926, 24, 4, 76, 209, 30, 4033, 6655, 5654, 8, 4, 60, 8, 4, 966, 308, 40, 2575, 129, 2, 295, 277, 1071, 9, 24, 286, 2114, 234, 222, 9, 4, 906, 3994, 8519, 114, 5758, 1752, 7, 4, 113, 17, 12])],\n",
              "      dtype=object)"
            ]
          },
          "metadata": {
            "tags": []
          },
          "execution_count": 4
        }
      ]
    },
    {
      "metadata": {
        "id": "bMfJAQoCPfC6",
        "colab_type": "code",
        "colab": {
          "base_uri": "https://localhost:8080/",
          "height": 35
        },
        "outputId": "46545876-6315-464f-ac91-d1c1475bf6be"
      },
      "cell_type": "code",
      "source": [
        "train_label"
      ],
      "execution_count": 5,
      "outputs": [
        {
          "output_type": "execute_result",
          "data": {
            "text/plain": [
              "array([ 3,  4,  3, ..., 25,  3, 25])"
            ]
          },
          "metadata": {
            "tags": []
          },
          "execution_count": 5
        }
      ]
    },
    {
      "metadata": {
        "id": "rRvO0EtbPuQz",
        "colab_type": "code",
        "colab": {}
      },
      "cell_type": "code",
      "source": [
        "import numpy as np\n",
        "\n",
        "\n",
        "def vectorize(sequences, dimension= 10000):\n",
        "  result = np.zeros((len(sequences),dimension))\n",
        "  for i, sequence in enumerate(sequences):\n",
        "    result[i,sequence] = 1\n",
        "  return result\n",
        "  \n",
        "  \n",
        "x_train = vectorize(train_data)\n",
        "x_test = vectorize(test_data)"
      ],
      "execution_count": 0,
      "outputs": []
    },
    {
      "metadata": {
        "id": "kacSiRkCQp74",
        "colab_type": "code",
        "colab": {
          "base_uri": "https://localhost:8080/",
          "height": 143
        },
        "outputId": "27174e41-f43d-4b69-fe8e-7577005190e4"
      },
      "cell_type": "code",
      "source": [
        "x_train"
      ],
      "execution_count": 7,
      "outputs": [
        {
          "output_type": "execute_result",
          "data": {
            "text/plain": [
              "array([[0., 1., 1., ..., 0., 0., 0.],\n",
              "       [0., 1., 1., ..., 0., 0., 0.],\n",
              "       [0., 1., 1., ..., 0., 0., 0.],\n",
              "       ...,\n",
              "       [0., 1., 1., ..., 0., 0., 0.],\n",
              "       [0., 1., 1., ..., 0., 0., 0.],\n",
              "       [0., 1., 1., ..., 0., 0., 0.]])"
            ]
          },
          "metadata": {
            "tags": []
          },
          "execution_count": 7
        }
      ]
    },
    {
      "metadata": {
        "id": "9gPNw5AMQ0p6",
        "colab_type": "code",
        "colab": {
          "base_uri": "https://localhost:8080/",
          "height": 143
        },
        "outputId": "1464cc51-cd8f-40d3-8e92-e577aaaa5ff0"
      },
      "cell_type": "code",
      "source": [
        "x_test"
      ],
      "execution_count": 8,
      "outputs": [
        {
          "output_type": "execute_result",
          "data": {
            "text/plain": [
              "array([[0., 1., 1., ..., 0., 0., 0.],\n",
              "       [0., 1., 1., ..., 0., 0., 0.],\n",
              "       [0., 1., 1., ..., 0., 0., 0.],\n",
              "       ...,\n",
              "       [0., 1., 0., ..., 0., 0., 0.],\n",
              "       [0., 1., 1., ..., 0., 0., 0.],\n",
              "       [0., 1., 1., ..., 0., 0., 0.]])"
            ]
          },
          "metadata": {
            "tags": []
          },
          "execution_count": 8
        }
      ]
    },
    {
      "metadata": {
        "id": "_w0-SrQtRFDl",
        "colab_type": "code",
        "colab": {}
      },
      "cell_type": "code",
      "source": [
        "from keras.utils.np_utils import to_categorical\n",
        "one_hot_train_labels = to_categorical(train_label)\n",
        "one_hot_test_labels = to_categorical(test_label)"
      ],
      "execution_count": 0,
      "outputs": []
    },
    {
      "metadata": {
        "id": "1Zng337iSH8t",
        "colab_type": "code",
        "colab": {
          "base_uri": "https://localhost:8080/",
          "height": 71
        },
        "outputId": "b5a42238-61c0-438a-d425-e7eb8cf1c5be"
      },
      "cell_type": "code",
      "source": [
        "one_hot_train_labels[25]"
      ],
      "execution_count": 10,
      "outputs": [
        {
          "output_type": "execute_result",
          "data": {
            "text/plain": [
              "array([0., 1., 0., 0., 0., 0., 0., 0., 0., 0., 0., 0., 0., 0., 0., 0., 0.,\n",
              "       0., 0., 0., 0., 0., 0., 0., 0., 0., 0., 0., 0., 0., 0., 0., 0., 0.,\n",
              "       0., 0., 0., 0., 0., 0., 0., 0., 0., 0., 0., 0.], dtype=float32)"
            ]
          },
          "metadata": {
            "tags": []
          },
          "execution_count": 10
        }
      ]
    },
    {
      "metadata": {
        "id": "G_ILMDA3SNqV",
        "colab_type": "code",
        "colab": {}
      },
      "cell_type": "code",
      "source": [
        "from keras import models\n",
        "from keras import layers\n",
        "\n",
        "model = models.Sequential()\n",
        "model.add(layers.Dense(64,activation = 'relu',input_shape = (10000,)))\n",
        "model.add(layers.Dense(64,activation = 'relu'))\n",
        "model.add(layers.Dense(46,activation = 'sigmoid'))\n",
        "\n"
      ],
      "execution_count": 0,
      "outputs": []
    },
    {
      "metadata": {
        "id": "obrXNiGYXKbz",
        "colab_type": "code",
        "colab": {}
      },
      "cell_type": "code",
      "source": [
        "model.compile(optimizer = 'rmsprop',\n",
        "             loss = 'categorical_crossentropy',\n",
        "             metrics = ['accuracy'])"
      ],
      "execution_count": 0,
      "outputs": []
    },
    {
      "metadata": {
        "id": "f25Wa94oaOMj",
        "colab_type": "code",
        "colab": {
          "base_uri": "https://localhost:8080/",
          "height": 755
        },
        "outputId": "8f4582a2-cd83-4698-ebaf-19ea1649c75c"
      },
      "cell_type": "code",
      "source": [
        "x_val = x_train[:1000]\n",
        "partial_x_train = x_train[1000:]\n",
        "y_val = one_hot_train_labels[:1000]\n",
        "partial_y_train = one_hot_train_labels[1000:]\n",
        "\n",
        "history = model.fit(partial_x_train,\n",
        "                   partial_y_train,\n",
        "                   epochs = 20,\n",
        "                   batch_size = 512,\n",
        "                   validation_data = (x_val,y_val))\n"
      ],
      "execution_count": 14,
      "outputs": [
        {
          "output_type": "stream",
          "text": [
            "Train on 7982 samples, validate on 1000 samples\n",
            "Epoch 1/20\n",
            "7982/7982 [==============================] - 2s 215us/step - loss: 3.2554 - acc: 0.4623 - val_loss: 2.7549 - val_acc: 0.4600\n",
            "Epoch 2/20\n",
            "7982/7982 [==============================] - 1s 79us/step - loss: 2.3342 - acc: 0.3675 - val_loss: 2.0664 - val_acc: 0.3540\n",
            "Epoch 3/20\n",
            "7982/7982 [==============================] - 1s 72us/step - loss: 1.8051 - acc: 0.3514 - val_loss: 1.7841 - val_acc: 0.3540\n",
            "Epoch 4/20\n",
            "7982/7982 [==============================] - 1s 73us/step - loss: 1.5427 - acc: 0.3514 - val_loss: 1.5708 - val_acc: 0.3540\n",
            "Epoch 5/20\n",
            "7982/7982 [==============================] - 1s 72us/step - loss: 1.2426 - acc: 0.3515 - val_loss: 1.3877 - val_acc: 0.3540\n",
            "Epoch 6/20\n",
            "7982/7982 [==============================] - 1s 74us/step - loss: 1.0336 - acc: 0.4318 - val_loss: 1.0525 - val_acc: 0.7810\n",
            "Epoch 7/20\n",
            "7982/7982 [==============================] - 1s 73us/step - loss: 0.6112 - acc: 0.8693 - val_loss: 0.9323 - val_acc: 0.8110\n",
            "Epoch 8/20\n",
            "7982/7982 [==============================] - 1s 73us/step - loss: 0.4614 - acc: 0.9077 - val_loss: 0.9110 - val_acc: 0.8070\n",
            "Epoch 9/20\n",
            "7982/7982 [==============================] - 1s 72us/step - loss: 0.3745 - acc: 0.9221 - val_loss: 0.8821 - val_acc: 0.8040\n",
            "Epoch 10/20\n",
            "7982/7982 [==============================] - 1s 73us/step - loss: 0.3150 - acc: 0.9321 - val_loss: 0.8726 - val_acc: 0.8180\n",
            "Epoch 11/20\n",
            "7982/7982 [==============================] - 1s 71us/step - loss: 0.2709 - acc: 0.9396 - val_loss: 0.8953 - val_acc: 0.8060\n",
            "Epoch 12/20\n",
            "7982/7982 [==============================] - 1s 73us/step - loss: 0.2318 - acc: 0.9454 - val_loss: 0.8573 - val_acc: 0.8160\n",
            "Epoch 13/20\n",
            "7982/7982 [==============================] - 1s 72us/step - loss: 0.2069 - acc: 0.9486 - val_loss: 0.8745 - val_acc: 0.8190\n",
            "Epoch 14/20\n",
            "7982/7982 [==============================] - 1s 71us/step - loss: 0.1833 - acc: 0.9540 - val_loss: 0.9206 - val_acc: 0.8070\n",
            "Epoch 15/20\n",
            "7982/7982 [==============================] - 1s 73us/step - loss: 0.1663 - acc: 0.9554 - val_loss: 0.9100 - val_acc: 0.8180\n",
            "Epoch 16/20\n",
            "7982/7982 [==============================] - 1s 72us/step - loss: 0.1542 - acc: 0.9546 - val_loss: 0.9431 - val_acc: 0.8090\n",
            "Epoch 17/20\n",
            "7982/7982 [==============================] - 1s 73us/step - loss: 0.1407 - acc: 0.9575 - val_loss: 0.9678 - val_acc: 0.7990\n",
            "Epoch 18/20\n",
            "7982/7982 [==============================] - 1s 71us/step - loss: 0.1351 - acc: 0.9569 - val_loss: 0.9698 - val_acc: 0.8090\n",
            "Epoch 19/20\n",
            "7982/7982 [==============================] - 1s 73us/step - loss: 0.1291 - acc: 0.9574 - val_loss: 0.9983 - val_acc: 0.8040\n",
            "Epoch 20/20\n",
            "7982/7982 [==============================] - 1s 72us/step - loss: 0.1248 - acc: 0.9584 - val_loss: 1.0102 - val_acc: 0.8000\n"
          ],
          "name": "stdout"
        }
      ]
    },
    {
      "metadata": {
        "id": "m4JVSQDUbiCY",
        "colab_type": "code",
        "colab": {
          "base_uri": "https://localhost:8080/",
          "height": 279
        },
        "outputId": "74a35633-aa19-4d7f-dcfa-551099044cd3"
      },
      "cell_type": "code",
      "source": [
        "import matplotlib.pyplot as plt\n",
        "history_dict = history.history\n",
        "%matplotlib inline\n",
        "epochs = range(1,len(history_dict['acc'])+1)\n",
        "plt.plot(epochs,history_dict['loss'],label = 'Training Loss')\n",
        "plt.plot(epochs,history_dict['val_loss'],label= 'Validation Loss')\n",
        "plt.xlabel('epochs')\n",
        "plt.ylabel('loss')\n",
        "plt.legend()\n",
        "plt.show()"
      ],
      "execution_count": 22,
      "outputs": [
        {
          "output_type": "display_data",
          "data": {
            "image/png": "[encoded data removed]",
            "text/plain": [
              "<matplotlib.figure.Figure at 0x7ff493db7710>"
            ]
          },
          "metadata": {
            "tags": []
          }
        }
      ]
    },
    {
      "metadata": {
        "id": "3ifOUemWczwe",
        "colab_type": "code",
        "colab": {
          "base_uri": "https://localhost:8080/",
          "height": 279
        },
        "outputId": "598babfe-5455-4cb0-9639-6892cac997a0"
      },
      "cell_type": "code",
      "source": [
        "plt.clf()\n",
        "plt.plot(epochs, history_dict['acc'],label = 'Training accuracy')\n",
        "plt.plot(epochs, history_dict['val_acc'],label = 'Validation accuracy')\n",
        "plt.legend()\n",
        "plt.xlabel('Epochs')\n",
        "plt.ylabel('Accuracy')\n",
        "plt.show()"
      ],
      "execution_count": 25,
      "outputs": [
        {
          "output_type": "display_data",
          "data": {
            "image/png": "[encoded data removed]",
            "text/plain": [
              "<matplotlib.figure.Figure at 0x7ff494c870f0>"
            ]
          },
          "metadata": {
            "tags": []
          }
        }
      ]
    },
    {
      "metadata": {
        "id": "NePYZChEeTvy",
        "colab_type": "code",
        "colab": {}
      },
      "cell_type": "code",
      "source": [
        "  "
      ],
      "execution_count": 0,
      "outputs": []
    }
  ]
}